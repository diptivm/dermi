{
  "cells": [
    {
      "cell_type": "code",
      "execution_count": null,
      "metadata": {
        "colab": {
          "base_uri": "https://localhost:8080/"
        },
        "id": "pvgqEm_1259K",
        "outputId": "cde94e3f-c8c4-47ad-f7d9-0961f7c3929c"
      },
      "outputs": [
        {
          "output_type": "stream",
          "name": "stdout",
          "text": [
            "Data source import complete.\n"
          ]
        }
      ],
      "source": [
        "# IMPORTANT: RUN THIS CELL IN ORDER TO IMPORT YOUR KAGGLE DATA SOURCES,\n",
        "# THEN FEEL FREE TO DELETE THIS CELL.\n",
        "# NOTE: THIS NOTEBOOK ENVIRONMENT DIFFERS FROM KAGGLE'S PYTHON\n",
        "# ENVIRONMENT SO THERE MAY BE MISSING LIBRARIES USED BY YOUR\n",
        "# NOTEBOOK.\n",
        "import kagglehub\n",
        "# drscarlat_melanoma_path = kagglehub.dataset_download('drscarlat/melanoma')\n",
        "andrewmvd_isic_2019_path = kagglehub.dataset_download('andrewmvd/isic-2019')\n",
        "\n",
        "#andrewmvd_isic_2019_path = '/content/drive/MyDrive/isic-2019'\n",
        "# surajghuwalewala_ham1000_segmentation_and_classification_path = kagglehub.dataset_download('surajghuwalewala/ham1000-segmentation-and-classification')\n",
        "\n",
        "print('Data source import complete.')\n"
      ]
    },
    {
      "cell_type": "code",
      "execution_count": null,
      "metadata": {
        "colab": {
          "base_uri": "https://localhost:8080/"
        },
        "id": "XJrHCprCrqS3",
        "outputId": "0538fa9f-fc1c-49d6-9948-3ebcee25486f"
      },
      "outputs": [
        {
          "output_type": "stream",
          "name": "stdout",
          "text": [
            "/root/.cache/kagglehub/datasets/andrewmvd/isic-2019/versions/1\n"
          ]
        }
      ],
      "source": [
        "# print(drscarlat_melanoma_path)\n",
        "print(andrewmvd_isic_2019_path)\n",
        "# print(surajghuwalewala_ham1000_segmentation_and_classification_path)"
      ]
    },
    {
      "cell_type": "code",
      "execution_count": null,
      "metadata": {
        "colab": {
          "base_uri": "https://localhost:8080/"
        },
        "id": "gR3JPcParuby",
        "outputId": "3c739100-f4f3-4d59-d8a6-5d9bca6d4008"
      },
      "outputs": [
        {
          "output_type": "stream",
          "name": "stdout",
          "text": [
            "Drive already mounted at /content/drive; to attempt to forcibly remount, call drive.mount(\"/content/drive\", force_remount=True).\n"
          ]
        }
      ],
      "source": [
        "from google.colab import drive\n",
        "drive.mount('/content/drive')"
      ]
    },
    {
      "cell_type": "code",
      "execution_count": null,
      "metadata": {
        "colab": {
          "base_uri": "https://localhost:8080/"
        },
        "id": "5n1wpmbgUawZ",
        "outputId": "3782575a-b81d-4758-af16-44c11988eaaa"
      },
      "outputs": [
        {
          "output_type": "execute_result",
          "data": {
            "text/plain": [
              "['ISIC_2019_Training_Metadata.csv',\n",
              " 'ISIC_2019_Training_GroundTruth.csv',\n",
              " 'ISIC_2019_Training_Input']"
            ]
          },
          "metadata": {},
          "execution_count": 4
        }
      ],
      "source": [
        "import os\n",
        "# os.listdir(drscarlat_melanoma_path)\n",
        "os.listdir(andrewmvd_isic_2019_path)\n",
        "# os.listdir(surajghuwalewala_ham1000_segmentation_and_classification_path)\n"
      ]
    },
    {
      "cell_type": "code",
      "execution_count": null,
      "metadata": {
        "id": "MwOpPpfM259L"
      },
      "outputs": [],
      "source": [
        "import os\n",
        "import numpy as np\n",
        "import pandas as pd\n",
        "import matplotlib.pyplot as plt\n",
        "import seaborn as sns\n",
        "from PIL import Image\n",
        "import torch\n",
        "import torch.onnx\n",
        "import torch.nn as nn\n",
        "import torch.optim as optim\n",
        "from torch.utils.data import Dataset, DataLoader\n",
        "from torchvision import transforms, models\n",
        "from sklearn.model_selection import train_test_split\n",
        "from sklearn.metrics import classification_report, confusion_matrix, roc_auc_score, accuracy_score\n",
        "from tqdm import tqdm"
      ]
    },
    {
      "cell_type": "code",
      "execution_count": null,
      "metadata": {
        "colab": {
          "base_uri": "https://localhost:8080/"
        },
        "id": "v93Od3Hh259M",
        "outputId": "f6938779-b0b0-4859-9fe8-0d9e563a8b1d"
      },
      "outputs": [
        {
          "output_type": "stream",
          "name": "stdout",
          "text": [
            "Using device: cuda\n"
          ]
        }
      ],
      "source": [
        "# Check if CUDA is available and set the device accordingly\n",
        "device = torch.device(\"cuda\"\n",
        "                      if torch.cuda.is_available() else \"cpu\")\n",
        "print(f\"Using device: {device}\")\n",
        "\n",
        "# Data Preparation\n",
        "columns_rearranged = ['image', 'NV', 'MEL', 'BCC', 'AKIEC', 'DF', 'VASC', 'BKL', 'SCC']\n",
        "\n",
        "# skin_cancer_df = pd.read_csv('/root/.cache/kagglehub/datasets/surajghuwalewala/ham1000-segmentation-and-classification/versions/2/GroundTruth.csv')\n",
        "# skin_cancer_df.drop(columns=['BKL'], inplace=True)\n",
        "# skin_cancer_df = skin_cancer_df[columns_rearranged]\n",
        "\n",
        "# skin_cancer_2019_df = pd.read_csv('/root/.cache/kagglehub/datasets/andrewmvd/isic-2019/versions/1/ISIC_2019_Training_GroundTruth.csv')\n",
        "skin_cancer_2019_df = pd.read_csv(os.path.join(andrewmvd_isic_2019_path, 'ISIC_2019_Training_GroundTruth.csv'))\n",
        "#skin_cancer_2019_df.drop(columns=['BKL', 'SCC', 'UNK'], inplace=True)\n",
        "skin_cancer_2019_df.rename(columns={'AK': 'AKIEC'}, inplace=True)\n",
        "skin_cancer_2019_df = skin_cancer_2019_df[columns_rearranged]\n",
        "\n"
      ]
    },
    {
      "cell_type": "code",
      "execution_count": null,
      "metadata": {
        "id": "t_xho0MobEFE"
      },
      "outputs": [],
      "source": [
        "# NV - Melanocytic Nevus: Benign mole from melanocytes.\n",
        "# MEL - Melanoma: Malignant, high-risk skin cancer from melanocytes.\n",
        "# BCC - Basal Cell Carcinoma: Common, low-risk skin cancer.\n",
        "# AKIEC - Actinic Keratosis: Precancerous lesion from sun exposure.\n",
        "# DF - Dermatofibroma: Benign, fibrous skin growth.\n",
        "# VASC - Vascular Lesion: Benign growth involving blood vessels.\n",
        "\n",
        "# BKL - Benign Keratosis\n",
        "# SCC - Squamous Cell Carcinoma\n",
        "# UNK"
      ]
    },
    {
      "cell_type": "code",
      "execution_count": null,
      "metadata": {
        "id": "PAQpY1ur259M"
      },
      "outputs": [],
      "source": [
        "multiclass_categories = {\n",
        "    0: 'NV',\n",
        "    1: 'MEL',\n",
        "    2: 'BCC',\n",
        "    3: 'AKIEC',\n",
        "    4: 'DF',\n",
        "    5: 'VASC',\n",
        "    6: 'BKL',\n",
        "    7: 'SCC'\n",
        "}\n",
        "\n",
        "filenames_list, multiclass_categories_list = [], []\n",
        "\n",
        "base_paths = [\n",
        "#     (\"/root/.cache/kagglehub/datasets/surajghuwalewala/ham1000-segmentation-and-classification/versions/2/images\", skin_cancer_df),\n",
        "#     (\"/root/.cache/kagglehub/datasets/drscarlat/melanoma/versions/1/DermMel/\", [['test', 'valid'], ['NotMelanoma', 'Melanoma']]),\n",
        "     (\"/root/.cache/kagglehub/datasets/andrewmvd/isic-2019/versions/1/ISIC_2019_Training_Input/ISIC_2019_Training_Input\", skin_cancer_2019_df)\n",
        "]\n",
        "\n",
        "\n",
        "#base_paths = [(\"/content/drive/MyDrive/isic-2019/ISIC_2019_Training_Input/ISIC_2019_Training_Input\", skin_cancer_2019_df)]\n"
      ]
    },
    {
      "cell_type": "code",
      "execution_count": null,
      "metadata": {
        "colab": {
          "base_uri": "https://localhost:8080/"
        },
        "id": "HbdoMJ-G259M",
        "outputId": "e863d0c7-e14a-4f59-c025-e86a64cd3c6d"
      },
      "outputs": [
        {
          "output_type": "stream",
          "name": "stdout",
          "text": [
            "Multi-class weights: {0: 1, 1: 1, 2: 1, 3: 1, 4: 1, 5: 1, 6: 1, 7: 1}\n",
            "25331\n",
            "category\n",
            "0    12875\n",
            "1     4522\n",
            "2     3323\n",
            "6     2624\n",
            "3      867\n",
            "7      628\n",
            "5      253\n",
            "4      239\n",
            "Name: count, dtype: int64\n"
          ]
        }
      ],
      "source": [
        "for base_path, database in base_paths:\n",
        "    if isinstance(database, pd.DataFrame):\n",
        "        for row in database.itertuples(index=False):\n",
        "            filename = os.path.join(base_path, row[0]) + '.jpg'\n",
        "            filenames_list.append(filename)\n",
        "            multiclass_index = np.argmax(row[1:])\n",
        "            multiclass_categories_list.append(multiclass_index)\n",
        "    else:\n",
        "        for sub_directory in database[0]:\n",
        "            for sub_sub_directory in database[1]:\n",
        "                final_path = os.path.join(base_path, sub_directory, sub_sub_directory)\n",
        "                for filename in os.listdir(final_path):\n",
        "                    filenames_list.append(os.path.join(final_path, filename))\n",
        "                    if sub_sub_directory in ['nevus', 'NotMelanoma']:\n",
        "                        multiclass_categories_list.append(0)\n",
        "                    else:\n",
        "                        multiclass_categories_list.append(database[1].index(sub_sub_directory))\n",
        "\n",
        "multiclass_df = pd.DataFrame({\"filename\": filenames_list, \"category\": multiclass_categories_list})\n",
        "multiclass_df = multiclass_df.sample(frac=1).reset_index(drop=True)\n",
        "\n",
        "multiclass_class_counts = np.bincount(multiclass_categories_list)\n",
        "# multiclass_class_weights = {i: len(multiclass_categories_list) / (2.0 * count) for i, count in enumerate(multiclass_class_counts)}\n",
        "multiclass_class_weights = {i: 1 for i, count in enumerate(multiclass_class_counts)}\n",
        "\n",
        "print(f\"Multi-class weights: {multiclass_class_weights}\")\n",
        "\n",
        "print(len(multiclass_categories_list))\n",
        "print(multiclass_df['category'].value_counts(normalize=False))  # Check proportions\n"
      ]
    },
    {
      "cell_type": "code",
      "execution_count": null,
      "metadata": {
        "colab": {
          "base_uri": "https://localhost:8080/"
        },
        "id": "LgfBSnT4JxTd",
        "outputId": "cd35ce1b-9cc7-4af8-a94a-4205adfda20b"
      },
      "outputs": [
        {
          "output_type": "stream",
          "name": "stdout",
          "text": [
            "category\n",
            "0    1288\n",
            "1     452\n",
            "2     332\n",
            "6     262\n",
            "3      87\n",
            "7      63\n",
            "5      25\n",
            "4      24\n",
            "Name: count, dtype: int64\n"
          ]
        },
        {
          "output_type": "stream",
          "name": "stderr",
          "text": [
            "<ipython-input-10-19e682c11ae9>:1: DeprecationWarning: DataFrameGroupBy.apply operated on the grouping columns. This behavior is deprecated, and in a future version of pandas the grouping columns will be excluded from the operation. Either pass `include_groups=False` to exclude the groupings or explicitly select the grouping columns after groupby to silence this warning.\n",
            "  multiclass10percent_df = multiclass_df.groupby('category', group_keys=False).apply(\n"
          ]
        }
      ],
      "source": [
        "multiclass10percent_df = multiclass_df.groupby('category', group_keys=False).apply(\n",
        "    lambda x: x.sample(frac=0.1, random_state=42)\n",
        ")\n",
        "\n",
        "print(multiclass10percent_df['category'].value_counts(normalize=False))  # Check proportions\n"
      ]
    },
    {
      "cell_type": "code",
      "execution_count": null,
      "metadata": {
        "colab": {
          "base_uri": "https://localhost:8080/"
        },
        "id": "u_72tWNVv-tj",
        "outputId": "27ba952c-b1fe-40e6-eabf-1918ec01419b"
      },
      "outputs": [
        {
          "output_type": "stream",
          "name": "stdout",
          "text": [
            "\n",
            "Remaining Dataset Category Counts:\n",
            "category\n",
            "0    11587\n",
            "1     4070\n",
            "2     2991\n",
            "6     2362\n",
            "3      780\n",
            "7      565\n",
            "5      228\n",
            "4      215\n",
            "Name: count, dtype: int64\n"
          ]
        }
      ],
      "source": [
        "# Use drop to remove the 10% of the rows in the stratified DF from the full multiclass_df\n",
        "multiclass90percent = multiclass_df.drop(multiclass10percent_df.index)\n",
        "print(\"\\nRemaining Dataset Category Counts:\")\n",
        "print(multiclass90percent['category'].value_counts(normalize=False))"
      ]
    },
    {
      "cell_type": "code",
      "execution_count": null,
      "metadata": {
        "colab": {
          "base_uri": "https://localhost:8080/",
          "height": 723
        },
        "id": "JcOuRjfg259M",
        "outputId": "c4453ff7-b2b6-4bf9-95f3-00103c0f1fd5"
      },
      "outputs": [
        {
          "output_type": "stream",
          "name": "stderr",
          "text": [
            "<ipython-input-12-be8381d454a9>:6: FutureWarning: \n",
            "\n",
            "Passing `palette` without assigning `hue` is deprecated and will be removed in v0.14.0. Assign the `x` variable to `hue` and set `legend=False` for the same effect.\n",
            "\n",
            "  sns.barplot(data=uni, x=uni.index, y='Count', palette='icefire', width=0.4).set_title('Class distribution in Dataset', fontsize=15)\n"
          ]
        },
        {
          "output_type": "display_data",
          "data": {
            "text/plain": [
              "<Figure size 2800x800 with 1 Axes>"
            ],
            "image/png": "[encoded data removed]"
          },
          "metadata": {}
        }
      ],
      "source": [
        "# Visualization\n",
        "label, count = np.unique(multiclass10percent_df.category, return_counts=True)\n",
        "uni = pd.DataFrame(data=count, index=multiclass_categories.values(), columns=['Count'])\n",
        "\n",
        "plt.figure(figsize=(14, 4), dpi=200)\n",
        "sns.barplot(data=uni, x=uni.index, y='Count', palette='icefire', width=0.4).set_title('Class distribution in Dataset', fontsize=15)\n",
        "plt.show()"
      ]
    },
    {
      "cell_type": "code",
      "execution_count": null,
      "metadata": {
        "id": "uaWab9e0259N"
      },
      "outputs": [],
      "source": [
        "# Train-validation-test split\n",
        "multiclass_train_df, multiclass_temp_df = train_test_split(multiclass10percent_df, test_size=0.2, stratify=multiclass10percent_df['category'], random_state=42)\n",
        "multiclass_cv_df, multiclass_test_df = train_test_split(multiclass_temp_df, test_size=0.5, stratify=multiclass_temp_df['category'], random_state=42)\n"
      ]
    },
    {
      "cell_type": "code",
      "execution_count": null,
      "metadata": {
        "id": "CX1Uhnh5Due3"
      },
      "outputs": [],
      "source": [
        "import sys\n",
        "sys.path.append('/content/drive/MyDrive/GT_OMSA/CS7643_DL/project')\n",
        "from utils import blurring, remove_hair\n",
        "# from cv2 import GaussianBlur, medianBlur\n",
        "import cv2"
      ]
    },
    {
      "cell_type": "code",
      "execution_count": null,
      "metadata": {
        "id": "q2iOuMlB-tMa"
      },
      "outputs": [],
      "source": [
        "class SkinCancerDataset(Dataset):\n",
        "    def __init__(self, dataframe, blackhat_threshold, kernel_size_hair, kernel_size_blur, blur_func, doBlur, transform=None,):\n",
        "        self.dataframe = dataframe\n",
        "        self.transform = transform\n",
        "        self.blackhat_threshold = blackhat_threshold\n",
        "        self.kernel_size_tuple = (kernel_size_hair, kernel_size_hair)\n",
        "        self.kernel_size_blur = kernel_size_blur\n",
        "        self.blur_func = blur_func\n",
        "        self.doBlur = doBlur\n",
        "\n",
        "    def __len__(self):\n",
        "        return len(self.dataframe)\n",
        "\n",
        "    def __getitem__(self, idx):\n",
        "        img_path = self.dataframe.iloc[idx, 0]\n",
        "        # image = Image.open(img_path).convert('RGB')\n",
        "        image = cv2.imread(img_path)\n",
        "        label = int(self.dataframe.iloc[idx, 1])\n",
        "        cleaned_image = remove_hair(image, kernel_size_tuple=self.kernel_size_tuple, blackhat_threshold=self.blackhat_threshold)\n",
        "        if(self.doBlur):\n",
        "          cleaned_image = blurring(cleaned_image, kernel_size=self.kernel_size_blur,blur_func=self.blur_func)\n",
        "\n",
        "        cleaned_image = Image.fromarray(cleaned_image)\n",
        "\n",
        "        if self.transform:\n",
        "            cleaned_image = self.transform(cleaned_image)\n",
        "\n",
        "        return cleaned_image, label\n",
        "\n",
        "image_size = (224, 224)\n",
        "batch_size = 32"
      ]
    },
    {
      "cell_type": "code",
      "execution_count": null,
      "metadata": {
        "id": "r3IeyrbV13YA"
      },
      "outputs": [],
      "source": [
        "# SELF-SUPERVISED LEARNING\n",
        "#####################################\n",
        "# Transforms and Pre-Processing\n",
        "#####################################\n",
        "transform_SelfSL = transforms.Compose([\n",
        "    # TODO: can consider larger resize\n",
        "    transforms.Resize(image_size),\n",
        "    transforms.RandomCrop(image_size, padding=10),  # Random cropping with padding\n",
        "    transforms.RandomHorizontalFlip(),\n",
        "    transforms.RandomVerticalFlip(),\n",
        "        transforms.ColorJitter(\n",
        "        brightness=0.1,  # Adjust brightness by ±10%\n",
        "        contrast=0.1,    # Adjust contrast by ±10%\n",
        "        saturation=0.1,  # Adjust saturation by ±10%\n",
        "        hue=0.02         # Adjust hue by ±2%\n",
        "    ),\n",
        "    transforms.ToTensor(),\n",
        "    transforms.Normalize([0.485, 0.456, 0.406], [0.229, 0.224, 0.225])\n",
        "    # add color jitter\n",
        "])"
      ]
    },
    {
      "cell_type": "code",
      "execution_count": null,
      "metadata": {
        "id": "B3LpQsaM259N"
      },
      "outputs": [],
      "source": [
        "# SUPERVISED LEARNING\n",
        "#####################################\n",
        "# Transforms and Pre-Processing\n",
        "#####################################\n",
        "transform = transforms.Compose([\n",
        "    transforms.Resize(image_size),\n",
        "    transforms.RandomHorizontalFlip(),\n",
        "    transforms.RandomVerticalFlip(),\n",
        "    transforms.RandomRotation(20),\n",
        "    transforms.ToTensor(),\n",
        "    transforms.Normalize([0.485, 0.456, 0.406], [0.229, 0.224, 0.225])\n",
        "])\n",
        "\n",
        "# Pre-processing\n",
        "blackhat_threshold = 9\n",
        "kernel_size_hair = 15\n",
        "kernel_size_blur = 5\n",
        "blur_func = cv2.GaussianBlur\n",
        "doBlur = True\n",
        "\n",
        "# Prepare dataset\n",
        "train_dataset = SkinCancerDataset(multiclass_train_df, blackhat_threshold, kernel_size_hair, kernel_size_blur, blur_func, doBlur, transform=transform)\n",
        "val_dataset = SkinCancerDataset(multiclass_cv_df, blackhat_threshold, kernel_size_hair, kernel_size_blur, blur_func, doBlur, transform=transform)\n",
        "test_dataset = SkinCancerDataset(multiclass_test_df, blackhat_threshold, kernel_size_hair, kernel_size_blur, blur_func, doBlur, transform=transform)\n",
        "\n",
        "# train_loader = DataLoader(train_dataset, batch_size=batch_size, shuffle=True, num_workers=14)\n",
        "# val_loader = DataLoader(val_dataset, batch_size=batch_size, shuffle=False, num_workers=14)\n",
        "# test_loader = DataLoader(test_dataset, batch_size=batch_size, shuffle=False, num_workers=14)"
      ]
    },
    {
      "cell_type": "code",
      "execution_count": null,
      "metadata": {
        "colab": {
          "base_uri": "https://localhost:8080/"
        },
        "id": "6wqvoDfuYEVa",
        "outputId": "66aaa1a3-f876-4c1b-ff3e-940fb3849ecf"
      },
      "outputs": [
        {
          "output_type": "stream",
          "name": "stdout",
          "text": [
            "['NVIDIA A100-SXM4-40GB']\n"
          ]
        }
      ],
      "source": [
        "# EFFICIENT NET FOR SUPERVISED\n",
        "class EfficientNetB3(nn.Module):\n",
        "    def __init__(self, num_classes):\n",
        "        super(EfficientNetB3, self).__init__()\n",
        "        # Load pretrained EfficientNet B3\n",
        "        self.model = models.efficientnet_b3(weights=models.EfficientNet_B3_Weights.IMAGENET1K_V1)\n",
        "        # Get the number of input features for the classifier layer\n",
        "        in_features = self.model.classifier[1].in_features\n",
        "        # Replace the final classification layer\n",
        "        self.model.classifier[1] = nn.Linear(in_features, num_classes)\n",
        "        # Softmax for output probabilities\n",
        "        self.softmax = nn.Softmax(dim=1)\n",
        "\n",
        "    def forward(self, x):\n",
        "        x = self.model(x)\n",
        "        x = self.softmax(x)\n",
        "        return x\n",
        "\n",
        "# Define the number of classes\n",
        "num_classes = len(multiclass_categories)  # Use your class count\n",
        "# Initialize the model\n",
        "model = EfficientNetB3(num_classes=num_classes)\n",
        "# Move the model to GPU if available\n",
        "device = torch.device(\"cuda\" if torch.cuda.is_available() else \"cpu\")\n",
        "model = model.to(device)\n",
        "\n",
        "# Check available GPUs\n",
        "print([torch.cuda.get_device_name(i) for i in range(torch.cuda.device_count())])"
      ]
    },
    {
      "cell_type": "code",
      "execution_count": null,
      "metadata": {
        "id": "zuIpOGnC259O"
      },
      "outputs": [],
      "source": [
        "#FULLY SUPERVISED TRG\n",
        "def train_one_epoch(epoch, model, train_loader, optimizer, criterion, device):\n",
        "    model.train()\n",
        "    train_loss = 0.0\n",
        "    correct_train = 0\n",
        "\n",
        "    for images, labels in tqdm(train_loader, desc=f\"Training Epoch {epoch+1}/{num_epochs}\", ncols=100):\n",
        "        images, labels = images.to(device, dtype=torch.float32), labels.cuda().long()\n",
        "        optimizer.zero_grad()\n",
        "        outputs = model(images)\n",
        "        loss = criterion(outputs, labels)\n",
        "        loss.backward()\n",
        "        optimizer.step()\n",
        "        train_loss += loss.item() * images.size(0)\n",
        "        _, predicted = torch.max(outputs, 1)\n",
        "        correct_train += (predicted == labels).sum().item()\n",
        "\n",
        "    train_loss /= len(train_loader.dataset)\n",
        "    train_accuracy = correct_train / len(train_loader.dataset)\n",
        "\n",
        "    return train_loss, train_accuracy\n",
        "\n",
        "def validate_one_epoch(epoch, model, val_loader, criterion, device):\n",
        "    model.eval()\n",
        "    val_loss = 0.0\n",
        "    correct_val = 0\n",
        "\n",
        "    with torch.no_grad():\n",
        "        for images, labels in tqdm(val_loader, desc=f\"Validation Epoch {epoch+1}/{num_epochs}\", ncols=100):\n",
        "            images, labels = images.to(device, dtype=torch.float32), labels.to(device, dtype=torch.long)\n",
        "            outputs = model(images)\n",
        "            loss = criterion(outputs, labels)\n",
        "            val_loss += loss.item() * images.size(0)\n",
        "            _, predicted = torch.max(outputs, 1)\n",
        "            correct_val += (predicted == labels).sum().item()\n",
        "\n",
        "    val_loss /= len(val_loader.dataset)\n",
        "    val_accuracy = correct_val / len(val_loader.dataset)\n",
        "\n",
        "    return val_loss, val_accuracy\n",
        "\n",
        "def train_model(model, train_loader, val_loader, optimizer, scheduler, num_epochs, early_stopping_patience, device, criterion):\n",
        "    best_val_loss = float('inf')\n",
        "    epochs_no_improve = 0\n",
        "\n",
        "    train_losses = []\n",
        "    train_accuracies = []\n",
        "    val_losses = []\n",
        "    val_accuracies = []\n",
        "\n",
        "    for epoch in range(num_epochs):\n",
        "        train_loss, train_accuracy = train_one_epoch(epoch, model, train_loader, optimizer, criterion, device)\n",
        "        val_loss, val_accuracy = validate_one_epoch(epoch, model, val_loader, criterion, device)\n",
        "\n",
        "        train_losses.append(train_loss)\n",
        "        train_accuracies.append(train_accuracy)\n",
        "        val_losses.append(val_loss)\n",
        "        val_accuracies.append(val_accuracy)\n",
        "\n",
        "        print(f\"Epoch {epoch+1}/{num_epochs}, Train Loss: {train_loss:.4f}, Train Accuracy: {train_accuracy:.4f}, \"\n",
        "              f\"Validation Loss: {val_loss:.4f}, Validation Accuracy: {val_accuracy:.4f}\")\n",
        "\n",
        "        scheduler.step(val_loss)\n",
        "\n",
        "        if val_loss < best_val_loss:\n",
        "            best_val_loss = val_loss\n",
        "            torch.save(model.state_dict(), 'best_model.pth')\n",
        "        if epochs_no_improve >= early_stopping_patience:\n",
        "            print(\"Early stopping\")\n",
        "            break\n",
        "\n",
        "    return train_losses, train_accuracies, val_losses, val_accuracies, best_val_loss\n",
        "\n",
        "# train_model(model, train_loader, val_loader, optimizer, scheduler, num_epochs, early_stopping_patience, device)\n",
        "#train_losses, train_accuracies, val_losses, val_accuracies, best_val_loss = train_model(model, train_loader, val_loader, optimizer, scheduler, num_epochs, early_stopping_patience, device, criterion)"
      ]
    },
    {
      "cell_type": "code",
      "execution_count": null,
      "metadata": {
        "id": "J0lOzMaAN1Ql"
      },
      "outputs": [],
      "source": [
        "#PLOTTING\n",
        "def plot_curves(train_losses, val_losses, filename):\n",
        "    '''\n",
        "    '''\n",
        "    plt.plot(train_losses, label='train')\n",
        "    plt.plot(val_losses, label='valid')\n",
        "\n",
        "    plt.xlabel('Epochs')\n",
        "    plt.ylabel('Loss')\n",
        "    plt.legend()\n",
        "    plt.title('Loss Curve - '+filename)\n",
        "    plt.savefig(filename+'.png')\n",
        "    plt.show()\n"
      ]
    },
    {
      "cell_type": "code",
      "execution_count": null,
      "metadata": {
        "id": "q0b71zSKZwY-"
      },
      "outputs": [],
      "source": [
        "#HYPERPARAM TUNING\n",
        "def get_best_val_loss(\n",
        "    train_loader,\n",
        "    val_loader,\n",
        "    lr,\n",
        "    weight_decay,\n",
        "    model=None\n",
        "):\n",
        "    \"\"\"\n",
        "    Initializes and trains the EfficientNetB3 model with the given configuration.\n",
        "    Returns the best validation loss.\n",
        "    \"\"\"\n",
        "    # Configuration\n",
        "    num_classes = len(multiclass_categories)  # Replace with your global variable\n",
        "    class_weights = torch.tensor(list(multiclass_class_weights.values()), dtype=torch.float32)\n",
        "    device = torch.device(\"cuda\" if torch.cuda.is_available() else \"cpu\")\n",
        "    early_stopping_patience = 4\n",
        "\n",
        "    # Initialize the EfficientNetB3 model\n",
        "    if model is None:\n",
        "      model = EfficientNetB3(num_classes=num_classes)\n",
        "    model = model.to(device)\n",
        "\n",
        "    # Define the criterion with class weights\n",
        "    class_weights = class_weights.to(device)\n",
        "    criterion = nn.CrossEntropyLoss(weight=class_weights).to(device)\n",
        "\n",
        "    # Define the optimizer\n",
        "    optimizer = optim.Adam(model.parameters(), lr=lr, weight_decay=weight_decay)\n",
        "\n",
        "    # Define the learning rate scheduler\n",
        "    scheduler = optim.lr_scheduler.ReduceLROnPlateau(optimizer, 'min', factor=0.4, patience=2)\n",
        "\n",
        "    # Training parameters\n",
        "    best_val_loss = float('inf')\n",
        "\n",
        "    # Train the model using train_model function\n",
        "    train_losses, train_accuracies, val_losses, val_accuracies, best_val_loss  = train_model(\n",
        "        model=model,\n",
        "        train_loader=train_loader,\n",
        "        val_loader=val_loader,\n",
        "        optimizer=optimizer,\n",
        "        scheduler=scheduler,\n",
        "        num_epochs=num_epochs,\n",
        "        early_stopping_patience=early_stopping_patience,\n",
        "        device=device,\n",
        "        criterion=criterion\n",
        "    )\n",
        "\n",
        "    filename = f\"RUN1_lr{lr}_wd{weight_decay}\"\n",
        "    plot_curves(train_accuracies, val_accuracies, filename)\n",
        "    print(train_accuracies)\n",
        "    print(val_accuracies)\n",
        "    torch.cuda.empty_cache()\n",
        "\n",
        "    return best_val_loss"
      ]
    },
    {
      "cell_type": "code",
      "source": [
        "#####################################################\n",
        "# HYPERPARAM TUNING\n",
        "#####################################################\n",
        "\n",
        "batch_size1 = [32, 8, 16, 64]\n",
        "lr1 = [2e-4, 1e-4, 5e-4, 1e-3, 2e-3]\n",
        "weight_decay = [0, 1e-5, 2e-5, 5e-5, 1e-4]\n",
        "\n",
        "# Pre-processing\n",
        "# blackhat_threshold = [5, 9, 12, 15]\n",
        "# kernel_size_hair = [5, 10, 15, 20]\n",
        "# kernel_size_blur = [3, 5, 10, 15]\n",
        "# blur_func = cv2.GaussianBlur\n",
        "# doBlur = True\n",
        "\n",
        "# blackhat_threshold = 9\n",
        "# kernel_size_hair = 15\n",
        "# kernel_size_blur = 5\n",
        "# blur_func = cv2.GaussianBlur\n",
        "# doBlur = True\n",
        "\n",
        "num_epochs = 7\n",
        "\n",
        "\n",
        "best_param = {\n",
        "    \"batch_size\": batch_size1[0],\n",
        "    \"lr\": lr1[0],\n",
        "    \"weight_decay\": weight_decay[0]\n",
        "}\n",
        "\n",
        "\n",
        "\n",
        "min_val_loss = float('inf')\n",
        "\n",
        "tuning_order = [\n",
        "    (\"batch_size\", batch_size1),\n",
        "    (\"lr\", lr1),\n",
        "    (\"weight_decay\", weight_decay)]\n",
        "\n",
        "\n",
        "for param_name, param_values in tuning_order:\n",
        "    for value in param_values:\n",
        "      curr_batch_size = best_param[\"batch_size\"] if param_name != \"batch_size\" else value\n",
        "      curr_lr = best_param[\"lr\"] if param_name != \"lr\" else value\n",
        "      curr_weight_decay = best_param[\"weight_decay\"] if param_name != \"weight_decay\" else value\n",
        "\n",
        "      train_loader = DataLoader(train_dataset, curr_batch_size, shuffle=True, num_workers=4)\n",
        "      val_loader = DataLoader(val_dataset, curr_batch_size, shuffle=False, num_workers=4)\n",
        "      test_loader = DataLoader(test_dataset, curr_batch_size, shuffle=False, num_workers=4)\n",
        "\n",
        "      # Compute the best validation loss\n",
        "      best_val_loss = get_best_val_loss(\n",
        "          train_loader=train_loader,\n",
        "          val_loader=val_loader,\n",
        "          lr=curr_lr,\n",
        "          weight_decay=curr_weight_decay\n",
        "      )\n",
        "\n",
        "      file_path = '/content/drive/MyDrive/CS7643/project/BASELINET0.txt'\n",
        "      data = f\"bs{curr_batch_size}_lr{curr_lr}_wd{curr_weight_decay}: val_loss{best_val_loss}\\n\"\n",
        "      with open(file_path, 'a') as file:\n",
        "        file.write(data)\n",
        "\n",
        "      if best_val_loss < min_val_loss:\n",
        "          min_val_loss = best_val_loss\n",
        "          best_param[param_name] = value\n",
        "\n",
        "    print(f\"Best {param_name}: {best_param[param_name]} with val_loss: {min_val_loss}\")\n",
        "\n",
        "print(\"Final best parameters:\", best_param)"
      ],
      "metadata": {
        "id": "Q2q7PAsQMy3e"
      },
      "execution_count": null,
      "outputs": []
    },
    {
      "cell_type": "code",
      "execution_count": null,
      "metadata": {
        "colab": {
          "base_uri": "https://localhost:8080/"
        },
        "id": "6-ZN1rPYvQZL",
        "outputId": "c09340cf-ba5c-4c1f-8b25-69f2fb5d75a6"
      },
      "outputs": [
        {
          "output_type": "stream",
          "name": "stdout",
          "text": [
            "EfficientNetB3 model initialized with training configuration.\n"
          ]
        }
      ],
      "source": [
        "#HYPERPARAM TUNING - FINAL BEST MODEL\n",
        "best_batch_size = best_param[\"batch_size\"]\n",
        "best_lr = best_param[\"lr\"]\n",
        "best_weight_decay = best_param[\"weight_decay\"]\n",
        "\n",
        "train_loader = DataLoader(train_dataset, best_batch_size, shuffle=True, num_workers=4)\n",
        "val_loader = DataLoader(val_dataset, best_batch_size, shuffle=False, num_workers=4)\n",
        "test_loader = DataLoader(test_dataset, best_batch_size, shuffle=False, num_workers=4)\n",
        "\n",
        "# Initialize the EfficientNetB3 model\n",
        "model = EfficientNetB3(num_classes=len(multiclass_categories))\n",
        "device = torch.device(\"cuda\" if torch.cuda.is_available() else \"cpu\")\n",
        "model = model.to(device)\n",
        "\n",
        "# Define the criterion with class weights\n",
        "class_weights = torch.tensor(list(multiclass_class_weights.values()), dtype=torch.float32).to(device)\n",
        "criterion = nn.CrossEntropyLoss(weight=class_weights).to(device)\n",
        "\n",
        "# Define the optimizer\n",
        "optimizer = optim.Adam(model.parameters(), lr=best_lr, weight_decay=best_weight_decay)\n",
        "\n",
        "# Define the learning rate scheduler\n",
        "scheduler = optim.lr_scheduler.ReduceLROnPlateau(optimizer, 'min', factor=0.4, patience=2)\n",
        "\n",
        "# Training parameters\n",
        "num_epochs = 10\n",
        "early_stopping_patience = 4\n",
        "best_val_loss = float('inf')\n",
        "epochs_no_improve = 0\n",
        "\n",
        "print(\"EfficientNetB3 model initialized with training configuration.\")\n"
      ]
    },
    {
      "cell_type": "code",
      "execution_count": null,
      "metadata": {
        "colab": {
          "base_uri": "https://localhost:8080/"
        },
        "id": "ll3xTqkP2sTU",
        "outputId": "3a16902c-8238-4d32-d0a7-406af021cb3a"
      },
      "outputs": [
        {
          "output_type": "stream",
          "name": "stderr",
          "text": [
            "Training Epoch 1/10: 100%|██████████████████████████████████████████| 32/32 [00:40<00:00,  1.28s/it]\n",
            "Validation Epoch 1/10: 100%|██████████████████████████████████████████| 4/4 [00:05<00:00,  1.33s/it]\n"
          ]
        },
        {
          "output_type": "stream",
          "name": "stdout",
          "text": [
            "Epoch 1/10, Train Loss: 1.8919, Train Accuracy: 0.4931, Validation Loss: 1.7273, Validation Accuracy: 0.5771\n"
          ]
        },
        {
          "output_type": "stream",
          "name": "stderr",
          "text": [
            "Training Epoch 2/10: 100%|██████████████████████████████████████████| 32/32 [00:43<00:00,  1.36s/it]\n",
            "Validation Epoch 2/10: 100%|██████████████████████████████████████████| 4/4 [00:05<00:00,  1.31s/it]\n"
          ]
        },
        {
          "output_type": "stream",
          "name": "stdout",
          "text": [
            "Epoch 2/10, Train Loss: 1.7172, Train Accuracy: 0.5652, Validation Loss: 1.6826, Validation Accuracy: 0.6047\n"
          ]
        },
        {
          "output_type": "stream",
          "name": "stderr",
          "text": [
            "Training Epoch 3/10: 100%|██████████████████████████████████████████| 32/32 [00:41<00:00,  1.30s/it]\n",
            "Validation Epoch 3/10: 100%|██████████████████████████████████████████| 4/4 [00:05<00:00,  1.30s/it]\n"
          ]
        },
        {
          "output_type": "stream",
          "name": "stdout",
          "text": [
            "Epoch 3/10, Train Loss: 1.6596, Train Accuracy: 0.6269, Validation Loss: 1.6276, Validation Accuracy: 0.6680\n"
          ]
        },
        {
          "output_type": "stream",
          "name": "stderr",
          "text": [
            "Training Epoch 4/10:  41%|█████████████████                         | 13/32 [00:20<00:33,  1.75s/it]"
          ]
        }
      ],
      "source": [
        "# train_model(model, train_loader, val_loader, optimizer, scheduler, num_epochs, early_stopping_patience, device, criterion)\n",
        "# train_losses, train_accuracies, val_losses, val_accuracies, best_val_loss = train_model(model, train_loader, val_loader, optimizer, scheduler, num_epochs, early_stopping_patience, device, criterion)\n",
        "\n",
        "plt.figure(figsize=(10, 8))\n",
        "\n",
        "# Plot losses\n",
        "plt.subplot(2, 1, 1)  # 2 rows, 1 column, 1st subplot\n",
        "plt.plot(train_losses, label='Train Loss', marker='o')\n",
        "plt.plot(val_losses, label='Validation Loss', marker='x')\n",
        "plt.xlabel('Epochs')\n",
        "plt.ylabel('Loss')\n",
        "plt.title('Training and Validation Loss')\n",
        "plt.legend()\n",
        "plt.grid(True)\n",
        "\n",
        "# Plot accuracies\n",
        "plt.subplot(2, 1, 2)  # 2 rows, 1 column, 2nd subplot\n",
        "plt.plot(train_accuracies, label='Train Accuracy', marker='o')\n",
        "plt.plot(val_accuracies, label='Validation Accuracy', marker='x')\n",
        "plt.xlabel('Epochs')\n",
        "plt.ylabel('Accuracy (%)')\n",
        "plt.title('Training and Validation Accuracy')\n",
        "plt.legend()\n",
        "plt.grid(True)\n",
        "\n",
        "# Adjust layout and show the plot\n",
        "plt.tight_layout()\n",
        "plt.show()\n",
        "\n",
        "\n"
      ]
    },
    {
      "cell_type": "code",
      "execution_count": null,
      "metadata": {
        "id": "VejW50qJztwg"
      },
      "outputs": [],
      "source": [
        "pip install onnx"
      ]
    },
    {
      "cell_type": "code",
      "execution_count": null,
      "metadata": {
        "id": "FDEhH__C259O"
      },
      "outputs": [],
      "source": [
        "# Test the model\n",
        "model.eval()\n",
        "test_loss = 0.0\n",
        "correct_test = 0\n",
        "\n",
        "# Create a dummy input tensor matching the input dimensions of the model\n",
        "dummy_input = torch.randn(1, 3, 224, 224, device='cuda')  # Example for a model with 3-channel image input\n",
        "\n",
        "# Export the model\n",
        "torch.onnx.export(model, dummy_input, \"model.onnx\", export_params=True, opset_version=10)\n",
        "\n",
        "predictions = []\n",
        "true_classes = []\n",
        "\n",
        "with torch.no_grad():\n",
        "    for images, labels in tqdm(test_loader, desc=\"Testing\", ncols=100):\n",
        "        images, labels = images.to(device), labels.to(device)\n",
        "        outputs = model(images)\n",
        "        loss = criterion(outputs, labels)\n",
        "        test_loss += loss.item() * images.size(0)\n",
        "        _, predicted = torch.max(outputs, 1)\n",
        "        correct_test += (predicted == labels).sum().item()\n",
        "        predictions.extend(predicted.cpu().numpy())\n",
        "        true_classes.extend(labels.cpu().numpy())\n",
        "\n",
        "test_loss = test_loss / len(test_loader.dataset)\n",
        "test_accuracy = correct_test / len(test_loader.dataset)\n",
        "\n",
        "print(f'Test Loss: {test_loss:.4f}')\n",
        "print(f'Test Accuracy: {test_accuracy*100:.2f}%')"
      ]
    },
    {
      "cell_type": "code",
      "execution_count": null,
      "metadata": {
        "id": "F1A7ZJdF259O"
      },
      "outputs": [],
      "source": [
        "# Calculate precision\n",
        "precision = accuracy_score(true_classes, predictions) * 100\n",
        "print(f'Precision: {precision:.2f}%')\n"
      ]
    },
    {
      "cell_type": "code",
      "execution_count": null,
      "metadata": {
        "id": "Dxbd6L7o259O"
      },
      "outputs": [],
      "source": [
        "# Confusion matrix\n",
        "conf_matrix = confusion_matrix(true_classes, predictions)\n",
        "plt.figure(figsize=(8, 6), dpi=200)\n",
        "sns.heatmap(conf_matrix, annot=True, fmt='d', cmap='icefire', xticklabels=multiclass_categories.keys(), yticklabels=multiclass_categories.keys())\n",
        "plt.xlabel('Predicted')\n",
        "plt.ylabel('Actual')\n",
        "plt.title('Confusion Matrix')\n",
        "\n",
        "plt.show()\n"
      ]
    },
    {
      "cell_type": "code",
      "execution_count": null,
      "metadata": {
        "id": "IJekTPvS259O"
      },
      "outputs": [],
      "source": [
        "# Save the model\n",
        "torch.save(model.state_dict(), 'multiclass_model_final.pth')\n",
        "\n",
        "# Load an image-label pair from the test dataset\n",
        "image, label = test_dataset.__getitem__(0)\n",
        "print(image)\n",
        "\n",
        "# Ensure the model is in evaluation mode\n",
        "model.eval()\n",
        "\n",
        "# If you're using a GPU, you also need to send the image and the model to the same device\n",
        "device = torch.device(\"cuda\" if torch.cuda.is_available() else \"cpu\")\n",
        "model = model.to(device)\n",
        "image = image.to(device)  # Send the image to the GPU if you're using one\n",
        "\n",
        "# Perform the forward pass with no_grad to save memory and compute speed\n",
        "with torch.no_grad():\n",
        "    output = model(image.unsqueeze(0))  # Add a batch dimension\n",
        "\n",
        "# Print the output\n",
        "print(\"output: \", output)\n",
        "\n",
        "# To get the predicted class\n",
        "predicted_class = torch.argmax(output)\n",
        "print(f\"Predicted class: {predicted_class}\")"
      ]
    },
    {
      "cell_type": "code",
      "execution_count": null,
      "metadata": {
        "id": "iLL9zFqh0jFu"
      },
      "outputs": [],
      "source": [
        "selfsl_dataset = SkinCancerDataset(multiclass90percent, blackhat_threshold, kernel_size_hair, kernel_size_blur, blur_func, doBlur, transform=transform_SelfSL)\n",
        "selfsl_loader = DataLoader(selfsl_dataset, batch_size=batch_size, shuffle=True, num_workers=14)\n"
      ]
    },
    {
      "cell_type": "code",
      "execution_count": null,
      "metadata": {
        "id": "YtcOQYMIeG2z"
      },
      "outputs": [],
      "source": []
    },
    {
      "cell_type": "code",
      "source": [],
      "metadata": {
        "id": "-vhFwXRWRY0o"
      },
      "execution_count": null,
      "outputs": []
    }
  ],
  "metadata": {
    "accelerator": "GPU",
    "colab": {
      "gpuType": "A100",
      "provenance": []
    },
    "kaggle": {
      "accelerator": "gpu",
      "dataSources": [
        {
          "datasetId": 85479,
          "sourceId": 197225,
          "sourceType": "datasetVersion"
        },
        {
          "datasetId": 679322,
          "sourceId": 1193409,
          "sourceType": "datasetVersion"
        },
        {
          "datasetId": 1370616,
          "sourceId": 2275763,
          "sourceType": "datasetVersion"
        }
      ],
      "dockerImageVersionId": 30746,
      "isGpuEnabled": true,
      "isInternetEnabled": false,
      "language": "python",
      "sourceType": "notebook"
    },
    "kernelspec": {
      "display_name": "Python 3",
      "name": "python3"
    },
    "language_info": {
      "codemirror_mode": {
        "name": "ipython",
        "version": 3
      },
      "file_extension": ".py",
      "mimetype": "text/x-python",
      "name": "python",
      "nbconvert_exporter": "python",
      "pygments_lexer": "ipython3",
      "version": "3.10.13"
    }
  },
  "nbformat": 4,
  "nbformat_minor": 0
}